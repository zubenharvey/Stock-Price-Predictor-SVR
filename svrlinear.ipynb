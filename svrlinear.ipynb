{
 "cells": [
  {
   "cell_type": "code",
   "execution_count": 57,
   "id": "e02f34ae-661d-43d7-95fa-52afe8603f04",
   "metadata": {},
   "outputs": [],
   "source": [
    "import pandas as pd\n",
    "import numpy as np\n",
    "import matplotlib.pyplot as plt\n",
    "import time\n",
    "from sklearn.model_selection import train_test_split\n",
    "from sklearn.svm import SVR\n",
    "from sklearn.metrics import accuracy_score\n",
    "from datetime import date"
   ]
  },
  {
   "cell_type": "code",
   "execution_count": 58,
   "id": "eb795c8e-9c77-489e-bc4f-88836bd290cd",
   "metadata": {},
   "outputs": [],
   "source": [
    "start = time.process_time()"
   ]
  },
  {
   "cell_type": "code",
   "execution_count": 59,
   "id": "1a8e2616-84f3-42a9-8c67-a675eb1d5672",
   "metadata": {},
   "outputs": [
    {
     "data": {
      "text/html": [
       "<div>\n",
       "<style scoped>\n",
       "    .dataframe tbody tr th:only-of-type {\n",
       "        vertical-align: middle;\n",
       "    }\n",
       "\n",
       "    .dataframe tbody tr th {\n",
       "        vertical-align: top;\n",
       "    }\n",
       "\n",
       "    .dataframe thead th {\n",
       "        text-align: right;\n",
       "    }\n",
       "</style>\n",
       "<table border=\"1\" class=\"dataframe\">\n",
       "  <thead>\n",
       "    <tr style=\"text-align: right;\">\n",
       "      <th></th>\n",
       "      <th>Open</th>\n",
       "      <th>High</th>\n",
       "      <th>Low</th>\n",
       "      <th>Close</th>\n",
       "      <th>Adj Close</th>\n",
       "      <th>Volume</th>\n",
       "    </tr>\n",
       "    <tr>\n",
       "      <th>Date</th>\n",
       "      <th></th>\n",
       "      <th></th>\n",
       "      <th></th>\n",
       "      <th></th>\n",
       "      <th></th>\n",
       "      <th></th>\n",
       "    </tr>\n",
       "  </thead>\n",
       "  <tbody>\n",
       "    <tr>\n",
       "      <th>2019-04-22</th>\n",
       "      <td>717.049988</td>\n",
       "      <td>725.750000</td>\n",
       "      <td>715.000000</td>\n",
       "      <td>721.049988</td>\n",
       "      <td>637.257385</td>\n",
       "      <td>6455426</td>\n",
       "    </tr>\n",
       "    <tr>\n",
       "      <th>2019-04-23</th>\n",
       "      <td>723.900024</td>\n",
       "      <td>730.000000</td>\n",
       "      <td>718.400024</td>\n",
       "      <td>728.200012</td>\n",
       "      <td>643.576721</td>\n",
       "      <td>5516668</td>\n",
       "    </tr>\n",
       "    <tr>\n",
       "      <th>2019-04-24</th>\n",
       "      <td>728.200012</td>\n",
       "      <td>737.900024</td>\n",
       "      <td>724.000000</td>\n",
       "      <td>736.450012</td>\n",
       "      <td>650.867859</td>\n",
       "      <td>8285120</td>\n",
       "    </tr>\n",
       "    <tr>\n",
       "      <th>2019-04-25</th>\n",
       "      <td>736.450012</td>\n",
       "      <td>737.650024</td>\n",
       "      <td>727.049988</td>\n",
       "      <td>728.549988</td>\n",
       "      <td>643.885986</td>\n",
       "      <td>8005235</td>\n",
       "    </tr>\n",
       "    <tr>\n",
       "      <th>2019-04-26</th>\n",
       "      <td>731.000000</td>\n",
       "      <td>739.799988</td>\n",
       "      <td>729.000000</td>\n",
       "      <td>738.000000</td>\n",
       "      <td>652.237793</td>\n",
       "      <td>6895168</td>\n",
       "    </tr>\n",
       "  </tbody>\n",
       "</table>\n",
       "</div>"
      ],
      "text/plain": [
       "                  Open        High         Low       Close   Adj Close  \\\n",
       "Date                                                                     \n",
       "2019-04-22  717.049988  725.750000  715.000000  721.049988  637.257385   \n",
       "2019-04-23  723.900024  730.000000  718.400024  728.200012  643.576721   \n",
       "2019-04-24  728.200012  737.900024  724.000000  736.450012  650.867859   \n",
       "2019-04-25  736.450012  737.650024  727.049988  728.549988  643.885986   \n",
       "2019-04-26  731.000000  739.799988  729.000000  738.000000  652.237793   \n",
       "\n",
       "             Volume  \n",
       "Date                 \n",
       "2019-04-22  6455426  \n",
       "2019-04-23  5516668  \n",
       "2019-04-24  8285120  \n",
       "2019-04-25  8005235  \n",
       "2019-04-26  6895168  "
      ]
     },
     "execution_count": 59,
     "metadata": {},
     "output_type": "execute_result"
    }
   ],
   "source": [
    "df = pd.read_csv(\"C:/Users/Shreshth Arora/Desktop/Programming/Python/Projects/infosys.csv\")\n",
    "df['Date'] = pd.to_datetime(df.Date)\n",
    "df.index = pd.DatetimeIndex(df.Date)\n",
    "table_dates = df.Date\n",
    "df.drop('Date', axis=1, inplace=True)\n",
    "df.head()"
   ]
  },
  {
   "cell_type": "code",
   "execution_count": 60,
   "id": "8d93fe37-aad5-4a72-a8e2-1882b569d39e",
   "metadata": {},
   "outputs": [
    {
     "data": {
      "text/plain": [
       "(1235, 6)"
      ]
     },
     "execution_count": 60,
     "metadata": {},
     "output_type": "execute_result"
    }
   ],
   "source": [
    "df.shape"
   ]
  },
  {
   "cell_type": "code",
   "execution_count": 61,
   "id": "4e74fe1f-5863-4438-9430-b4da3e42396f",
   "metadata": {},
   "outputs": [
    {
     "data": {
      "text/plain": [
       "Open         0\n",
       "High         0\n",
       "Low          0\n",
       "Close        0\n",
       "Adj Close    0\n",
       "Volume       0\n",
       "dtype: int64"
      ]
     },
     "execution_count": 61,
     "metadata": {},
     "output_type": "execute_result"
    }
   ],
   "source": [
    "df.isna().sum()"
   ]
  },
  {
   "cell_type": "code",
   "execution_count": 62,
   "id": "d493bb42-051f-4ede-9748-95700364d946",
   "metadata": {},
   "outputs": [
    {
     "data": {
      "text/html": [
       "<div>\n",
       "<style scoped>\n",
       "    .dataframe tbody tr th:only-of-type {\n",
       "        vertical-align: middle;\n",
       "    }\n",
       "\n",
       "    .dataframe tbody tr th {\n",
       "        vertical-align: top;\n",
       "    }\n",
       "\n",
       "    .dataframe thead th {\n",
       "        text-align: right;\n",
       "    }\n",
       "</style>\n",
       "<table border=\"1\" class=\"dataframe\">\n",
       "  <thead>\n",
       "    <tr style=\"text-align: right;\">\n",
       "      <th></th>\n",
       "      <th>Open</th>\n",
       "      <th>High</th>\n",
       "      <th>Low</th>\n",
       "      <th>Close</th>\n",
       "      <th>Adj Close</th>\n",
       "      <th>Volume</th>\n",
       "    </tr>\n",
       "    <tr>\n",
       "      <th>Date</th>\n",
       "      <th></th>\n",
       "      <th></th>\n",
       "      <th></th>\n",
       "      <th></th>\n",
       "      <th></th>\n",
       "      <th></th>\n",
       "    </tr>\n",
       "  </thead>\n",
       "  <tbody>\n",
       "    <tr>\n",
       "      <th>2019-04-22</th>\n",
       "      <td>717.049988</td>\n",
       "      <td>725.750000</td>\n",
       "      <td>715.000000</td>\n",
       "      <td>721.049988</td>\n",
       "      <td>637.257385</td>\n",
       "      <td>6455426</td>\n",
       "    </tr>\n",
       "    <tr>\n",
       "      <th>2019-04-23</th>\n",
       "      <td>723.900024</td>\n",
       "      <td>730.000000</td>\n",
       "      <td>718.400024</td>\n",
       "      <td>728.200012</td>\n",
       "      <td>643.576721</td>\n",
       "      <td>5516668</td>\n",
       "    </tr>\n",
       "    <tr>\n",
       "      <th>2019-04-24</th>\n",
       "      <td>728.200012</td>\n",
       "      <td>737.900024</td>\n",
       "      <td>724.000000</td>\n",
       "      <td>736.450012</td>\n",
       "      <td>650.867859</td>\n",
       "      <td>8285120</td>\n",
       "    </tr>\n",
       "    <tr>\n",
       "      <th>2019-04-25</th>\n",
       "      <td>736.450012</td>\n",
       "      <td>737.650024</td>\n",
       "      <td>727.049988</td>\n",
       "      <td>728.549988</td>\n",
       "      <td>643.885986</td>\n",
       "      <td>8005235</td>\n",
       "    </tr>\n",
       "    <tr>\n",
       "      <th>2019-04-26</th>\n",
       "      <td>731.000000</td>\n",
       "      <td>739.799988</td>\n",
       "      <td>729.000000</td>\n",
       "      <td>738.000000</td>\n",
       "      <td>652.237793</td>\n",
       "      <td>6895168</td>\n",
       "    </tr>\n",
       "  </tbody>\n",
       "</table>\n",
       "</div>"
      ],
      "text/plain": [
       "                  Open        High         Low       Close   Adj Close  \\\n",
       "Date                                                                     \n",
       "2019-04-22  717.049988  725.750000  715.000000  721.049988  637.257385   \n",
       "2019-04-23  723.900024  730.000000  718.400024  728.200012  643.576721   \n",
       "2019-04-24  728.200012  737.900024  724.000000  736.450012  650.867859   \n",
       "2019-04-25  736.450012  737.650024  727.049988  728.549988  643.885986   \n",
       "2019-04-26  731.000000  739.799988  729.000000  738.000000  652.237793   \n",
       "\n",
       "             Volume  \n",
       "Date                 \n",
       "2019-04-22  6455426  \n",
       "2019-04-23  5516668  \n",
       "2019-04-24  8285120  \n",
       "2019-04-25  8005235  \n",
       "2019-04-26  6895168  "
      ]
     },
     "execution_count": 62,
     "metadata": {},
     "output_type": "execute_result"
    }
   ],
   "source": [
    "df.head()"
   ]
  },
  {
   "cell_type": "code",
   "execution_count": 63,
   "id": "8a4b8ed3-3471-4e0f-84d0-491949c246ed",
   "metadata": {},
   "outputs": [
    {
     "data": {
      "text/html": [
       "<div>\n",
       "<style scoped>\n",
       "    .dataframe tbody tr th:only-of-type {\n",
       "        vertical-align: middle;\n",
       "    }\n",
       "\n",
       "    .dataframe tbody tr th {\n",
       "        vertical-align: top;\n",
       "    }\n",
       "\n",
       "    .dataframe thead th {\n",
       "        text-align: right;\n",
       "    }\n",
       "</style>\n",
       "<table border=\"1\" class=\"dataframe\">\n",
       "  <thead>\n",
       "    <tr style=\"text-align: right;\">\n",
       "      <th></th>\n",
       "      <th>Open</th>\n",
       "      <th>High</th>\n",
       "      <th>Low</th>\n",
       "      <th>Close</th>\n",
       "      <th>Adj Close</th>\n",
       "      <th>Volume</th>\n",
       "    </tr>\n",
       "    <tr>\n",
       "      <th>Date</th>\n",
       "      <th></th>\n",
       "      <th></th>\n",
       "      <th></th>\n",
       "      <th></th>\n",
       "      <th></th>\n",
       "      <th></th>\n",
       "    </tr>\n",
       "  </thead>\n",
       "  <tbody>\n",
       "    <tr>\n",
       "      <th>2024-04-19</th>\n",
       "      <td>1385.0</td>\n",
       "      <td>1426.849976</td>\n",
       "      <td>1378.75</td>\n",
       "      <td>1411.25</td>\n",
       "      <td>1403.34082</td>\n",
       "      <td>20603621</td>\n",
       "    </tr>\n",
       "  </tbody>\n",
       "</table>\n",
       "</div>"
      ],
      "text/plain": [
       "              Open         High      Low    Close   Adj Close    Volume\n",
       "Date                                                                   \n",
       "2024-04-19  1385.0  1426.849976  1378.75  1411.25  1403.34082  20603621"
      ]
     },
     "execution_count": 63,
     "metadata": {},
     "output_type": "execute_result"
    }
   ],
   "source": [
    "#Last row of data used to predict\n",
    "compare_price = df.tail(1)\n",
    "compare_price"
   ]
  },
  {
   "cell_type": "code",
   "execution_count": 64,
   "id": "c36761b2-964e-48d2-8d35-a11f3195627d",
   "metadata": {},
   "outputs": [
    {
     "data": {
      "text/html": [
       "<div>\n",
       "<style scoped>\n",
       "    .dataframe tbody tr th:only-of-type {\n",
       "        vertical-align: middle;\n",
       "    }\n",
       "\n",
       "    .dataframe tbody tr th {\n",
       "        vertical-align: top;\n",
       "    }\n",
       "\n",
       "    .dataframe thead th {\n",
       "        text-align: right;\n",
       "    }\n",
       "</style>\n",
       "<table border=\"1\" class=\"dataframe\">\n",
       "  <thead>\n",
       "    <tr style=\"text-align: right;\">\n",
       "      <th></th>\n",
       "      <th>Open</th>\n",
       "      <th>High</th>\n",
       "      <th>Low</th>\n",
       "      <th>Close</th>\n",
       "      <th>Adj Close</th>\n",
       "      <th>Volume</th>\n",
       "    </tr>\n",
       "    <tr>\n",
       "      <th>Date</th>\n",
       "      <th></th>\n",
       "      <th></th>\n",
       "      <th></th>\n",
       "      <th></th>\n",
       "      <th></th>\n",
       "      <th></th>\n",
       "    </tr>\n",
       "  </thead>\n",
       "  <tbody>\n",
       "    <tr>\n",
       "      <th>2019-04-22</th>\n",
       "      <td>717.049988</td>\n",
       "      <td>725.750000</td>\n",
       "      <td>715.000000</td>\n",
       "      <td>721.049988</td>\n",
       "      <td>637.257385</td>\n",
       "      <td>6455426</td>\n",
       "    </tr>\n",
       "    <tr>\n",
       "      <th>2019-04-23</th>\n",
       "      <td>723.900024</td>\n",
       "      <td>730.000000</td>\n",
       "      <td>718.400024</td>\n",
       "      <td>728.200012</td>\n",
       "      <td>643.576721</td>\n",
       "      <td>5516668</td>\n",
       "    </tr>\n",
       "    <tr>\n",
       "      <th>2019-04-24</th>\n",
       "      <td>728.200012</td>\n",
       "      <td>737.900024</td>\n",
       "      <td>724.000000</td>\n",
       "      <td>736.450012</td>\n",
       "      <td>650.867859</td>\n",
       "      <td>8285120</td>\n",
       "    </tr>\n",
       "    <tr>\n",
       "      <th>2019-04-25</th>\n",
       "      <td>736.450012</td>\n",
       "      <td>737.650024</td>\n",
       "      <td>727.049988</td>\n",
       "      <td>728.549988</td>\n",
       "      <td>643.885986</td>\n",
       "      <td>8005235</td>\n",
       "    </tr>\n",
       "    <tr>\n",
       "      <th>2019-04-26</th>\n",
       "      <td>731.000000</td>\n",
       "      <td>739.799988</td>\n",
       "      <td>729.000000</td>\n",
       "      <td>738.000000</td>\n",
       "      <td>652.237793</td>\n",
       "      <td>6895168</td>\n",
       "    </tr>\n",
       "    <tr>\n",
       "      <th>...</th>\n",
       "      <td>...</td>\n",
       "      <td>...</td>\n",
       "      <td>...</td>\n",
       "      <td>...</td>\n",
       "      <td>...</td>\n",
       "      <td>...</td>\n",
       "    </tr>\n",
       "    <tr>\n",
       "      <th>2024-04-10</th>\n",
       "      <td>1500.349976</td>\n",
       "      <td>1509.849976</td>\n",
       "      <td>1484.550049</td>\n",
       "      <td>1506.800049</td>\n",
       "      <td>1498.355347</td>\n",
       "      <td>6744595</td>\n",
       "    </tr>\n",
       "    <tr>\n",
       "      <th>2024-04-12</th>\n",
       "      <td>1504.000000</td>\n",
       "      <td>1506.800049</td>\n",
       "      <td>1479.500000</td>\n",
       "      <td>1484.750000</td>\n",
       "      <td>1476.428833</td>\n",
       "      <td>12275616</td>\n",
       "    </tr>\n",
       "    <tr>\n",
       "      <th>2024-04-15</th>\n",
       "      <td>1480.000000</td>\n",
       "      <td>1491.949951</td>\n",
       "      <td>1461.050049</td>\n",
       "      <td>1468.150024</td>\n",
       "      <td>1459.921997</td>\n",
       "      <td>8531224</td>\n",
       "    </tr>\n",
       "    <tr>\n",
       "      <th>2024-04-16</th>\n",
       "      <td>1451.000000</td>\n",
       "      <td>1455.150024</td>\n",
       "      <td>1413.050049</td>\n",
       "      <td>1414.449951</td>\n",
       "      <td>1406.522827</td>\n",
       "      <td>16173541</td>\n",
       "    </tr>\n",
       "    <tr>\n",
       "      <th>2024-04-18</th>\n",
       "      <td>1421.099976</td>\n",
       "      <td>1444.699951</td>\n",
       "      <td>1407.500000</td>\n",
       "      <td>1419.250000</td>\n",
       "      <td>1411.296021</td>\n",
       "      <td>22107945</td>\n",
       "    </tr>\n",
       "  </tbody>\n",
       "</table>\n",
       "<p>1234 rows × 6 columns</p>\n",
       "</div>"
      ],
      "text/plain": [
       "                   Open         High          Low        Close    Adj Close  \\\n",
       "Date                                                                          \n",
       "2019-04-22   717.049988   725.750000   715.000000   721.049988   637.257385   \n",
       "2019-04-23   723.900024   730.000000   718.400024   728.200012   643.576721   \n",
       "2019-04-24   728.200012   737.900024   724.000000   736.450012   650.867859   \n",
       "2019-04-25   736.450012   737.650024   727.049988   728.549988   643.885986   \n",
       "2019-04-26   731.000000   739.799988   729.000000   738.000000   652.237793   \n",
       "...                 ...          ...          ...          ...          ...   \n",
       "2024-04-10  1500.349976  1509.849976  1484.550049  1506.800049  1498.355347   \n",
       "2024-04-12  1504.000000  1506.800049  1479.500000  1484.750000  1476.428833   \n",
       "2024-04-15  1480.000000  1491.949951  1461.050049  1468.150024  1459.921997   \n",
       "2024-04-16  1451.000000  1455.150024  1413.050049  1414.449951  1406.522827   \n",
       "2024-04-18  1421.099976  1444.699951  1407.500000  1419.250000  1411.296021   \n",
       "\n",
       "              Volume  \n",
       "Date                  \n",
       "2019-04-22   6455426  \n",
       "2019-04-23   5516668  \n",
       "2019-04-24   8285120  \n",
       "2019-04-25   8005235  \n",
       "2019-04-26   6895168  \n",
       "...              ...  \n",
       "2024-04-10   6744595  \n",
       "2024-04-12  12275616  \n",
       "2024-04-15   8531224  \n",
       "2024-04-16  16173541  \n",
       "2024-04-18  22107945  \n",
       "\n",
       "[1234 rows x 6 columns]"
      ]
     },
     "execution_count": 64,
     "metadata": {},
     "output_type": "execute_result"
    }
   ],
   "source": [
    "#Get all data except last row (actual_price)\n",
    "df = df.head(len(df)-1)\n",
    "df"
   ]
  },
  {
   "cell_type": "code",
   "execution_count": 65,
   "id": "e0b8eca8-b525-466a-9df8-aedea739abc8",
   "metadata": {},
   "outputs": [],
   "source": [
    "#Convert to OneHotEncoder\n",
    "df = pd.get_dummies(df)"
   ]
  },
  {
   "cell_type": "code",
   "execution_count": 66,
   "id": "aa502e01-0633-488e-8cab-8dc25ca987f4",
   "metadata": {},
   "outputs": [
    {
     "data": {
      "text/plain": [
       "['Open', 'High', 'Low', 'Adj Close', 'Volume']"
      ]
     },
     "execution_count": 66,
     "metadata": {},
     "output_type": "execute_result"
    }
   ],
   "source": [
    "#Save Feature Columns\n",
    "feature_list = list(df.columns)\n",
    "feature_list.remove('Close')\n",
    "feature_list"
   ]
  },
  {
   "cell_type": "code",
   "execution_count": 67,
   "id": "b117f711-2009-472c-b0e0-e35769ead4e2",
   "metadata": {},
   "outputs": [],
   "source": [
    "y = df.iloc[:, 3]\n",
    "X = df.iloc[:, [0, 1, 2, 4, 5]]"
   ]
  },
  {
   "cell_type": "code",
   "execution_count": 68,
   "id": "ee62ed1a-44b5-4c6c-91dc-941ee39533f5",
   "metadata": {},
   "outputs": [],
   "source": [
    "#Save for Later\n",
    "tab_y = y"
   ]
  },
  {
   "cell_type": "code",
   "execution_count": 69,
   "id": "6c097512-cb86-43d2-a443-15801eef2e0c",
   "metadata": {},
   "outputs": [
    {
     "name": "stdout",
     "output_type": "stream",
     "text": [
      "(1234, 1)\n"
     ]
    }
   ],
   "source": [
    "y = y.values.reshape(-1,1)\n",
    "print(y.shape)"
   ]
  },
  {
   "cell_type": "code",
   "execution_count": 70,
   "id": "00c58592-6cfa-4d2d-9bc3-0e1208f460ba",
   "metadata": {},
   "outputs": [],
   "source": [
    "from sklearn.preprocessing import StandardScaler\n",
    "scaler = StandardScaler()"
   ]
  },
  {
   "cell_type": "code",
   "execution_count": 71,
   "id": "95f712b1-b842-4f42-83a8-19d4986debb4",
   "metadata": {},
   "outputs": [],
   "source": [
    "X_train, X_test, y_train, y_test = train_test_split(X, y, test_size = 0.3, shuffle=False)"
   ]
  },
  {
   "cell_type": "code",
   "execution_count": 72,
   "id": "d6af6f08-481b-441b-80ca-836454976bbd",
   "metadata": {},
   "outputs": [
    {
     "name": "stdout",
     "output_type": "stream",
     "text": [
      "(863, 5)\n",
      "(371, 5)\n",
      "(863, 1)\n",
      "(371, 1)\n"
     ]
    }
   ],
   "source": [
    "print(X_train.shape)\n",
    "print(X_test.shape)\n",
    "print(y_train.shape)\n",
    "print(y_test.shape)"
   ]
  },
  {
   "cell_type": "code",
   "execution_count": 73,
   "id": "0c3246dd-e859-4901-a56b-9c99ec0808e5",
   "metadata": {},
   "outputs": [],
   "source": [
    "X_train = scaler.fit_transform(X_train)\n",
    "#y_train = scaler.fit_transform(y_train)\n",
    "X_test = scaler.fit_transform(X_test)\n",
    "#y_test = scaler.fit_transform(y_test)"
   ]
  },
  {
   "cell_type": "code",
   "execution_count": 74,
   "id": "9e9038a2-c717-4568-bac2-d29083c3babc",
   "metadata": {},
   "outputs": [],
   "source": [
    "model = SVR(kernel='linear', C=1, gamma='auto')"
   ]
  },
  {
   "cell_type": "code",
   "execution_count": 75,
   "id": "527e05c6-b8fd-41b0-b328-77a65c975708",
   "metadata": {},
   "outputs": [
    {
     "data": {
      "text/html": [
       "<style>#sk-container-id-3 {color: black;background-color: white;}#sk-container-id-3 pre{padding: 0;}#sk-container-id-3 div.sk-toggleable {background-color: white;}#sk-container-id-3 label.sk-toggleable__label {cursor: pointer;display: block;width: 100%;margin-bottom: 0;padding: 0.3em;box-sizing: border-box;text-align: center;}#sk-container-id-3 label.sk-toggleable__label-arrow:before {content: \"▸\";float: left;margin-right: 0.25em;color: #696969;}#sk-container-id-3 label.sk-toggleable__label-arrow:hover:before {color: black;}#sk-container-id-3 div.sk-estimator:hover label.sk-toggleable__label-arrow:before {color: black;}#sk-container-id-3 div.sk-toggleable__content {max-height: 0;max-width: 0;overflow: hidden;text-align: left;background-color: #f0f8ff;}#sk-container-id-3 div.sk-toggleable__content pre {margin: 0.2em;color: black;border-radius: 0.25em;background-color: #f0f8ff;}#sk-container-id-3 input.sk-toggleable__control:checked~div.sk-toggleable__content {max-height: 200px;max-width: 100%;overflow: auto;}#sk-container-id-3 input.sk-toggleable__control:checked~label.sk-toggleable__label-arrow:before {content: \"▾\";}#sk-container-id-3 div.sk-estimator input.sk-toggleable__control:checked~label.sk-toggleable__label {background-color: #d4ebff;}#sk-container-id-3 div.sk-label input.sk-toggleable__control:checked~label.sk-toggleable__label {background-color: #d4ebff;}#sk-container-id-3 input.sk-hidden--visually {border: 0;clip: rect(1px 1px 1px 1px);clip: rect(1px, 1px, 1px, 1px);height: 1px;margin: -1px;overflow: hidden;padding: 0;position: absolute;width: 1px;}#sk-container-id-3 div.sk-estimator {font-family: monospace;background-color: #f0f8ff;border: 1px dotted black;border-radius: 0.25em;box-sizing: border-box;margin-bottom: 0.5em;}#sk-container-id-3 div.sk-estimator:hover {background-color: #d4ebff;}#sk-container-id-3 div.sk-parallel-item::after {content: \"\";width: 100%;border-bottom: 1px solid gray;flex-grow: 1;}#sk-container-id-3 div.sk-label:hover label.sk-toggleable__label {background-color: #d4ebff;}#sk-container-id-3 div.sk-serial::before {content: \"\";position: absolute;border-left: 1px solid gray;box-sizing: border-box;top: 0;bottom: 0;left: 50%;z-index: 0;}#sk-container-id-3 div.sk-serial {display: flex;flex-direction: column;align-items: center;background-color: white;padding-right: 0.2em;padding-left: 0.2em;position: relative;}#sk-container-id-3 div.sk-item {position: relative;z-index: 1;}#sk-container-id-3 div.sk-parallel {display: flex;align-items: stretch;justify-content: center;background-color: white;position: relative;}#sk-container-id-3 div.sk-item::before, #sk-container-id-3 div.sk-parallel-item::before {content: \"\";position: absolute;border-left: 1px solid gray;box-sizing: border-box;top: 0;bottom: 0;left: 50%;z-index: -1;}#sk-container-id-3 div.sk-parallel-item {display: flex;flex-direction: column;z-index: 1;position: relative;background-color: white;}#sk-container-id-3 div.sk-parallel-item:first-child::after {align-self: flex-end;width: 50%;}#sk-container-id-3 div.sk-parallel-item:last-child::after {align-self: flex-start;width: 50%;}#sk-container-id-3 div.sk-parallel-item:only-child::after {width: 0;}#sk-container-id-3 div.sk-dashed-wrapped {border: 1px dashed gray;margin: 0 0.4em 0.5em 0.4em;box-sizing: border-box;padding-bottom: 0.4em;background-color: white;}#sk-container-id-3 div.sk-label label {font-family: monospace;font-weight: bold;display: inline-block;line-height: 1.2em;}#sk-container-id-3 div.sk-label-container {text-align: center;}#sk-container-id-3 div.sk-container {/* jupyter's `normalize.less` sets `[hidden] { display: none; }` but bootstrap.min.css set `[hidden] { display: none !important; }` so we also need the `!important` here to be able to override the default hidden behavior on the sphinx rendered scikit-learn.org. See: https://github.com/scikit-learn/scikit-learn/issues/21755 */display: inline-block !important;position: relative;}#sk-container-id-3 div.sk-text-repr-fallback {display: none;}</style><div id=\"sk-container-id-3\" class=\"sk-top-container\"><div class=\"sk-text-repr-fallback\"><pre>SVR(C=1, gamma=&#x27;auto&#x27;, kernel=&#x27;linear&#x27;)</pre><b>In a Jupyter environment, please rerun this cell to show the HTML representation or trust the notebook. <br />On GitHub, the HTML representation is unable to render, please try loading this page with nbviewer.org.</b></div><div class=\"sk-container\" hidden><div class=\"sk-item\"><div class=\"sk-estimator sk-toggleable\"><input class=\"sk-toggleable__control sk-hidden--visually\" id=\"sk-estimator-id-3\" type=\"checkbox\" checked><label for=\"sk-estimator-id-3\" class=\"sk-toggleable__label sk-toggleable__label-arrow\">SVR</label><div class=\"sk-toggleable__content\"><pre>SVR(C=1, gamma=&#x27;auto&#x27;, kernel=&#x27;linear&#x27;)</pre></div></div></div></div></div>"
      ],
      "text/plain": [
       "SVR(C=1, gamma='auto', kernel='linear')"
      ]
     },
     "execution_count": 75,
     "metadata": {},
     "output_type": "execute_result"
    }
   ],
   "source": [
    "model.fit(X_train, np.ravel(y_train))"
   ]
  },
  {
   "cell_type": "code",
   "execution_count": 76,
   "id": "6cd35912-c2e8-4f00-aeb7-ca70c8735c81",
   "metadata": {},
   "outputs": [],
   "source": [
    "y_pred = model.predict(X_test)"
   ]
  },
  {
   "cell_type": "code",
   "execution_count": 77,
   "id": "42ff5288-8593-4966-bdae-7ca504286bae",
   "metadata": {},
   "outputs": [
    {
     "data": {
      "text/plain": [
       "1411.25"
      ]
     },
     "execution_count": 77,
     "metadata": {},
     "output_type": "execute_result"
    }
   ],
   "source": [
    "actual_price = compare_price.iloc[0,3]\n",
    "actual_price"
   ]
  },
  {
   "cell_type": "code",
   "execution_count": 78,
   "id": "b4695774-fdbc-4780-b325-9bbcd0968db4",
   "metadata": {},
   "outputs": [
    {
     "name": "stdout",
     "output_type": "stream",
     "text": [
      "1052.9530563089452\n"
     ]
    }
   ],
   "source": [
    "next_day_price = y_pred[-1]\n",
    "print(next_day_price)"
   ]
  },
  {
   "cell_type": "code",
   "execution_count": 79,
   "id": "d5f3dab2-9726-4eff-b12a-5818c61d5e4d",
   "metadata": {},
   "outputs": [
    {
     "name": "stdout",
     "output_type": "stream",
     "text": [
      "R-squared score:  -10.165248927411726\n",
      "Mean Absolute Error: 323.26405010150785\n",
      "Mean Squared Error: 156485.82839697634\n",
      "Root Mean Squared Error: 395.58289699755267\n",
      "Mean Absolute Percentage Error (MAPE): 27.33\n",
      "Accuracy: 72.67\n"
     ]
    }
   ],
   "source": [
    "#Model Evaluation Scores\n",
    "from sklearn import metrics\n",
    "\n",
    "print('R-squared score: ', model.score(X_test, y_test))\n",
    "print('Mean Absolute Error:', metrics.mean_absolute_error(y_test, y_pred))\n",
    "print('Mean Squared Error:', metrics.mean_squared_error(y_test, y_pred))\n",
    "print('Root Mean Squared Error:', np.sqrt(metrics.mean_squared_error(y_test, y_pred)))\n",
    "mape = np.mean(np.abs((y_test - y_pred) / np.abs(y_test)))\n",
    "print('Mean Absolute Percentage Error (MAPE):', round(mape * 100, 2))\n",
    "print('Accuracy:', round(100*(1 - mape), 2))"
   ]
  },
  {
   "cell_type": "code",
   "execution_count": 80,
   "id": "d16c23c3-f9f6-43e2-8c2d-3e49690f2e00",
   "metadata": {},
   "outputs": [],
   "source": [
    "dates = df.index"
   ]
  },
  {
   "cell_type": "code",
   "execution_count": 81,
   "id": "ce99be56-5d89-407f-b69f-3c8cee7b6da5",
   "metadata": {},
   "outputs": [
    {
     "data": {
      "text/html": [
       "<div>\n",
       "<style scoped>\n",
       "    .dataframe tbody tr th:only-of-type {\n",
       "        vertical-align: middle;\n",
       "    }\n",
       "\n",
       "    .dataframe tbody tr th {\n",
       "        vertical-align: top;\n",
       "    }\n",
       "\n",
       "    .dataframe thead th {\n",
       "        text-align: right;\n",
       "    }\n",
       "</style>\n",
       "<table border=\"1\" class=\"dataframe\">\n",
       "  <thead>\n",
       "    <tr style=\"text-align: right;\">\n",
       "      <th></th>\n",
       "      <th>date</th>\n",
       "      <th>actual</th>\n",
       "    </tr>\n",
       "    <tr>\n",
       "      <th>Date</th>\n",
       "      <th></th>\n",
       "      <th></th>\n",
       "    </tr>\n",
       "  </thead>\n",
       "  <tbody>\n",
       "    <tr>\n",
       "      <th>2019-04-22</th>\n",
       "      <td>2019-04-22</td>\n",
       "      <td>721.049988</td>\n",
       "    </tr>\n",
       "    <tr>\n",
       "      <th>2019-04-23</th>\n",
       "      <td>2019-04-23</td>\n",
       "      <td>728.200012</td>\n",
       "    </tr>\n",
       "    <tr>\n",
       "      <th>2019-04-24</th>\n",
       "      <td>2019-04-24</td>\n",
       "      <td>736.450012</td>\n",
       "    </tr>\n",
       "    <tr>\n",
       "      <th>2019-04-25</th>\n",
       "      <td>2019-04-25</td>\n",
       "      <td>728.549988</td>\n",
       "    </tr>\n",
       "    <tr>\n",
       "      <th>2019-04-26</th>\n",
       "      <td>2019-04-26</td>\n",
       "      <td>738.000000</td>\n",
       "    </tr>\n",
       "    <tr>\n",
       "      <th>...</th>\n",
       "      <td>...</td>\n",
       "      <td>...</td>\n",
       "    </tr>\n",
       "    <tr>\n",
       "      <th>2024-04-10</th>\n",
       "      <td>2024-04-10</td>\n",
       "      <td>1506.800049</td>\n",
       "    </tr>\n",
       "    <tr>\n",
       "      <th>2024-04-12</th>\n",
       "      <td>2024-04-12</td>\n",
       "      <td>1484.750000</td>\n",
       "    </tr>\n",
       "    <tr>\n",
       "      <th>2024-04-15</th>\n",
       "      <td>2024-04-15</td>\n",
       "      <td>1468.150024</td>\n",
       "    </tr>\n",
       "    <tr>\n",
       "      <th>2024-04-16</th>\n",
       "      <td>2024-04-16</td>\n",
       "      <td>1414.449951</td>\n",
       "    </tr>\n",
       "    <tr>\n",
       "      <th>2024-04-18</th>\n",
       "      <td>2024-04-18</td>\n",
       "      <td>1419.250000</td>\n",
       "    </tr>\n",
       "  </tbody>\n",
       "</table>\n",
       "<p>1234 rows × 2 columns</p>\n",
       "</div>"
      ],
      "text/plain": [
       "                 date       actual\n",
       "Date                              \n",
       "2019-04-22 2019-04-22   721.049988\n",
       "2019-04-23 2019-04-23   728.200012\n",
       "2019-04-24 2019-04-24   736.450012\n",
       "2019-04-25 2019-04-25   728.549988\n",
       "2019-04-26 2019-04-26   738.000000\n",
       "...               ...          ...\n",
       "2024-04-10 2024-04-10  1506.800049\n",
       "2024-04-12 2024-04-12  1484.750000\n",
       "2024-04-15 2024-04-15  1468.150024\n",
       "2024-04-16 2024-04-16  1414.449951\n",
       "2024-04-18 2024-04-18  1419.250000\n",
       "\n",
       "[1234 rows x 2 columns]"
      ]
     },
     "execution_count": 81,
     "metadata": {},
     "output_type": "execute_result"
    }
   ],
   "source": [
    "true_data =pd.DataFrame(data = {'date': dates, 'actual': tab_y})\n",
    "true_data"
   ]
  },
  {
   "cell_type": "code",
   "execution_count": 82,
   "id": "bac8c7af-1b62-4096-b7e0-529b93de731d",
   "metadata": {},
   "outputs": [],
   "source": [
    "test_dates = table_dates[1-(len(y_pred)+1):]"
   ]
  },
  {
   "cell_type": "code",
   "execution_count": 83,
   "id": "377ec9b3-63e5-4585-83f3-a8dcd82892a3",
   "metadata": {},
   "outputs": [
    {
     "data": {
      "text/html": [
       "<div>\n",
       "<style scoped>\n",
       "    .dataframe tbody tr th:only-of-type {\n",
       "        vertical-align: middle;\n",
       "    }\n",
       "\n",
       "    .dataframe tbody tr th {\n",
       "        vertical-align: top;\n",
       "    }\n",
       "\n",
       "    .dataframe thead th {\n",
       "        text-align: right;\n",
       "    }\n",
       "</style>\n",
       "<table border=\"1\" class=\"dataframe\">\n",
       "  <thead>\n",
       "    <tr style=\"text-align: right;\">\n",
       "      <th></th>\n",
       "      <th>date</th>\n",
       "      <th>predictions</th>\n",
       "    </tr>\n",
       "    <tr>\n",
       "      <th>Date</th>\n",
       "      <th></th>\n",
       "      <th></th>\n",
       "    </tr>\n",
       "  </thead>\n",
       "  <tbody>\n",
       "    <tr>\n",
       "      <th>2022-10-17</th>\n",
       "      <td>2022-10-17</td>\n",
       "      <td>1200.957915</td>\n",
       "    </tr>\n",
       "    <tr>\n",
       "      <th>2022-10-18</th>\n",
       "      <td>2022-10-18</td>\n",
       "      <td>1217.327031</td>\n",
       "    </tr>\n",
       "    <tr>\n",
       "      <th>2022-10-19</th>\n",
       "      <td>2022-10-19</td>\n",
       "      <td>1288.239504</td>\n",
       "    </tr>\n",
       "    <tr>\n",
       "      <th>2022-10-20</th>\n",
       "      <td>2022-10-20</td>\n",
       "      <td>1248.568606</td>\n",
       "    </tr>\n",
       "    <tr>\n",
       "      <th>2022-10-21</th>\n",
       "      <td>2022-10-21</td>\n",
       "      <td>1231.789969</td>\n",
       "    </tr>\n",
       "    <tr>\n",
       "      <th>...</th>\n",
       "      <td>...</td>\n",
       "      <td>...</td>\n",
       "    </tr>\n",
       "    <tr>\n",
       "      <th>2024-04-12</th>\n",
       "      <td>2024-04-12</td>\n",
       "      <td>1319.535865</td>\n",
       "    </tr>\n",
       "    <tr>\n",
       "      <th>2024-04-15</th>\n",
       "      <td>2024-04-15</td>\n",
       "      <td>1295.123592</td>\n",
       "    </tr>\n",
       "    <tr>\n",
       "      <th>2024-04-16</th>\n",
       "      <td>2024-04-16</td>\n",
       "      <td>1232.592197</td>\n",
       "    </tr>\n",
       "    <tr>\n",
       "      <th>2024-04-18</th>\n",
       "      <td>2024-04-18</td>\n",
       "      <td>1086.686237</td>\n",
       "    </tr>\n",
       "    <tr>\n",
       "      <th>2024-04-19</th>\n",
       "      <td>2024-04-19</td>\n",
       "      <td>1052.953056</td>\n",
       "    </tr>\n",
       "  </tbody>\n",
       "</table>\n",
       "<p>371 rows × 2 columns</p>\n",
       "</div>"
      ],
      "text/plain": [
       "                 date  predictions\n",
       "Date                              \n",
       "2022-10-17 2022-10-17  1200.957915\n",
       "2022-10-18 2022-10-18  1217.327031\n",
       "2022-10-19 2022-10-19  1288.239504\n",
       "2022-10-20 2022-10-20  1248.568606\n",
       "2022-10-21 2022-10-21  1231.789969\n",
       "...               ...          ...\n",
       "2024-04-12 2024-04-12  1319.535865\n",
       "2024-04-15 2024-04-15  1295.123592\n",
       "2024-04-16 2024-04-16  1232.592197\n",
       "2024-04-18 2024-04-18  1086.686237\n",
       "2024-04-19 2024-04-19  1052.953056\n",
       "\n",
       "[371 rows x 2 columns]"
      ]
     },
     "execution_count": 83,
     "metadata": {},
     "output_type": "execute_result"
    }
   ],
   "source": [
    "predictions_data = pd.DataFrame(data = {'date': test_dates, 'predictions':y_pred})\n",
    "predictions_data"
   ]
  },
  {
   "cell_type": "code",
   "execution_count": 84,
   "id": "55519c57-4665-44a2-8875-c3cc42616ec2",
   "metadata": {},
   "outputs": [
    {
     "data": {
      "image/png": "[encoded data removed]",
      "text/plain": [
       "<Figure size 640x480 with 1 Axes>"
      ]
     },
     "metadata": {},
     "output_type": "display_data"
    }
   ],
   "source": [
    "plt.plot(true_data['date'], true_data['actual'], label = 'actual')\n",
    "plt.plot(predictions_data['date'], predictions_data['predictions'], label='predictions')\n",
    "plt.xticks(rotation=60)\n",
    "plt.ylabel(\"Closing Price in Rupees\")\n",
    "plt.title(\"Infosys: Actual vs Predicted Closing Prices (SVR Linear)\")\n",
    "plt.legend()\n",
    "plt.show()"
   ]
  },
  {
   "cell_type": "code",
   "execution_count": null,
   "id": "f481321f-23cb-4b27-9a56-1e0a91c1fc74",
   "metadata": {},
   "outputs": [],
   "source": []
  }
 ],
 "metadata": {
  "kernelspec": {
   "display_name": "Python 3 (ipykernel)",
   "language": "python",
   "name": "python3"
  },
  "language_info": {
   "codemirror_mode": {
    "name": "ipython",
    "version": 3
   },
   "file_extension": ".py",
   "mimetype": "text/x-python",
   "name": "python",
   "nbconvert_exporter": "python",
   "pygments_lexer": "ipython3",
   "version": "3.11.7"
  }
 },
 "nbformat": 4,
 "nbformat_minor": 5
}
